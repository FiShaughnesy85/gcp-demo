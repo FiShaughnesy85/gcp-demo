{
  "nbformat": 4,
  "nbformat_minor": 0,
  "metadata": {
    "colab": {
      "provenance": [],
      "authorship_tag": "ABX9TyNAG4iWvc7663vaBMb1lUYV",
      "include_colab_link": true
    },
    "kernelspec": {
      "name": "python3",
      "display_name": "Python 3"
    },
    "language_info": {
      "name": "python"
    }
  },
  "cells": [
    {
      "cell_type": "markdown",
      "metadata": {
        "id": "view-in-github",
        "colab_type": "text"
      },
      "source": [
        "<a href=\"https://colab.research.google.com/github/FiShaughnesy85/gcp-demo/blob/main/ARMyData.ipynb\" target=\"_parent\"><img src=\"https://colab.research.google.com/assets/colab-badge.svg\" alt=\"Open In Colab\"/></a>"
      ]
    },
    {
      "cell_type": "markdown",
      "source": [
        "https://vitalflux.com/autoregressive-ar-models-with-python-examples/"
      ],
      "metadata": {
        "id": "ksT26W9UiKTp"
      }
    },
    {
      "cell_type": "code",
      "execution_count": 5,
      "metadata": {
        "colab": {
          "base_uri": "https://localhost:8080/",
          "height": 762
        },
        "id": "fHSy4pWNiIMV",
        "outputId": "4eb81d8a-5a94-40a7-ce6c-eb649304208a"
      },
      "outputs": [
        {
          "output_type": "stream",
          "name": "stdout",
          "text": [
            "<bound method NDFrame.head of             date     visits  day month  week  year  black_Friday  easter  \\\n",
            "0     01/10/2019   797240.0  Tue   Oct    23  2019             0       0   \n",
            "1     02/10/2019   719241.0  Wed   Oct    23  2019             0       0   \n",
            "2     03/10/2019   700060.0  Thu   Oct    23  2019             0       0   \n",
            "3     04/10/2019   721915.0  Fri   Oct    23  2019             0       0   \n",
            "4     05/10/2019   839776.0  Sat   Oct    23  2019             0       0   \n",
            "...          ...        ...  ...   ...   ...   ...           ...     ...   \n",
            "1123  28/10/2022  1011135.0  Fri   Oct    26  2022             0       0   \n",
            "1124  29/10/2022  1001508.0  Sat   Oct    26  2022             0       0   \n",
            "1125  30/10/2022  1096682.0  Sun   Oct    27  2022             0       0   \n",
            "1126  31/10/2022  1037435.0  Mon   Oct    27  2022             0       0   \n",
            "1127  01/11/2022  1031206.0  Tue   Nov    27  2022             0       0   \n",
            "\n",
            "      stores_open  payday_week  \n",
            "0               1            0  \n",
            "1               1            0  \n",
            "2               1            0  \n",
            "3               1            0  \n",
            "4               1            0  \n",
            "...           ...          ...  \n",
            "1123            1            1  \n",
            "1124            1            1  \n",
            "1125            1            1  \n",
            "1126            1            1  \n",
            "1127            1            0  \n",
            "\n",
            "[1128 rows x 10 columns]>\n"
          ]
        },
        {
          "output_type": "execute_result",
          "data": {
            "text/plain": [
              "<matplotlib.axes._subplots.AxesSubplot at 0x7f0e72b0e7d0>"
            ]
          },
          "metadata": {},
          "execution_count": 5
        },
        {
          "output_type": "display_data",
          "data": {
            "text/plain": [
              "<Figure size 432x288 with 1 Axes>"
            ],
            "image/png": "[encoded data removed]"
          },
          "metadata": {
            "needs_background": "light"
          }
        }
      ],
      "source": [
        "import pandas as pd\n",
        "import numpy as np\n",
        "import matplotlib.pyplot as plt\n",
        "#\n",
        "# Load AutoReg class from statsmodels.tsa.ar_model module\n",
        "#\n",
        "from statsmodels.tsa.ar_model import AutoReg\n",
        "# Load and plot the time-series data\n",
        "#\n",
        "url='/content/NEW raw data from AA visits only more parameters.csv'\n",
        "df = pd.read_csv(url,sep=\",\")\n",
        "print(df.head)\n",
        "df['visits'].plot()"
      ]
    },
    {
      "cell_type": "code",
      "source": [
        "#\n",
        "# Check for stationarity of the time-series data\n",
        "# We will look for p-value. In case, p-value is less than 0.05, the time series\n",
        "# data can said to have stationarity\n",
        "#\n",
        "from statsmodels.tsa.stattools import adfuller\n",
        "#\n",
        "# Run the test\n",
        "#\n",
        "df_stationarityTest = adfuller(df['visits'], autolag='AIC')\n",
        "#\n",
        "# Check the value of p-value\n",
        "#\n",
        "print(\"P-value: \", df_stationarityTest[1])\n",
        "#\n",
        "# Next step is to find the order of AR model to be trained\n",
        "# for this, we will plot partial autocorrelation plot to assess\n",
        "# the direct effect of past data on future data\n",
        "#\n",
        "from statsmodels.graphics.tsaplots import plot_pacf\n",
        "pacf = plot_pacf(df['visits'], lags=60)"
      ],
      "metadata": {
        "colab": {
          "base_uri": "https://localhost:8080/",
          "height": 298
        },
        "id": "n098JnqDq77G",
        "outputId": "013a9c26-1b88-48b2-ee5f-8ca7dd2b93b1"
      },
      "execution_count": 6,
      "outputs": [
        {
          "output_type": "stream",
          "name": "stdout",
          "text": [
            "P-value:  0.0016722957838592447\n"
          ]
        },
        {
          "output_type": "display_data",
          "data": {
            "text/plain": [
              "<Figure size 432x288 with 1 Axes>"
            ],
            "image/png": "[encoded data removed]"
          },
          "metadata": {
            "needs_background": "light"
          }
        }
      ]
    },
    {
      "cell_type": "code",
      "source": [
        "#\n",
        "# Create training and test data\n",
        "#\n",
        "train_data = df['visits'][:len(df)-100]\n",
        "test_data = df['visits'][len(df)-100:]\n",
        "#\n",
        "# Instantiate and fit the AR model with training data\n",
        "#\n",
        "ar_model = AutoReg(train_data, lags=60).fit()\n",
        "#\n",
        "# Print Summary\n",
        "#\n",
        "print(ar_model.summary())"
      ],
      "metadata": {
        "colab": {
          "base_uri": "https://localhost:8080/"
        },
        "id": "SpPIUy05rq6H",
        "outputId": "e3739ab5-fc1a-4dab-d34c-27aec3d017d7"
      },
      "execution_count": 7,
      "outputs": [
        {
          "output_type": "stream",
          "name": "stdout",
          "text": [
            "                            AutoReg Model Results                             \n",
            "==============================================================================\n",
            "Dep. Variable:                 visits   No. Observations:                 1028\n",
            "Model:                    AutoReg(60)   Log Likelihood              -13205.746\n",
            "Method:               Conditional MLE   S.D. of innovations         203487.727\n",
            "Date:                Mon, 28 Nov 2022   AIC                             24.575\n",
            "Time:                        15:12:11   BIC                             24.887\n",
            "Sample:                            60   HQIC                            24.694\n",
            "                                 1028                                         \n",
            "==============================================================================\n",
            "                 coef    std err          z      P>|z|      [0.025      0.975]\n",
            "------------------------------------------------------------------------------\n",
            "intercept   5.459e+04   1.98e+04      2.761      0.006    1.58e+04    9.33e+04\n",
            "visits.L1      0.6047      0.030     20.036      0.000       0.546       0.664\n",
            "visits.L2      0.0717      0.036      2.009      0.044       0.002       0.142\n",
            "visits.L3      0.1764      0.036      4.944      0.000       0.106       0.246\n",
            "visits.L4     -0.0556      0.036     -1.542      0.123      -0.126       0.015\n",
            "visits.L5     -0.0033      0.036     -0.091      0.928      -0.074       0.068\n",
            "visits.L6      0.0396      0.036      1.096      0.273      -0.031       0.110\n",
            "visits.L7      0.1160      0.036      3.212      0.001       0.045       0.187\n",
            "visits.L8      0.0607      0.036      1.674      0.094      -0.010       0.132\n",
            "visits.L9     -0.0110      0.036     -0.305      0.760      -0.082       0.060\n",
            "visits.L10    -0.1009      0.036     -2.790      0.005      -0.172      -0.030\n",
            "visits.L11     0.0575      0.036      1.586      0.113      -0.014       0.129\n",
            "visits.L12    -0.0287      0.036     -0.790      0.429      -0.100       0.042\n",
            "visits.L13    -0.0118      0.036     -0.326      0.744      -0.083       0.059\n",
            "visits.L14     0.0429      0.036      1.183      0.237      -0.028       0.114\n",
            "visits.L15    -0.0836      0.036     -2.303      0.021      -0.155      -0.012\n",
            "visits.L16     0.0227      0.036      0.625      0.532      -0.049       0.094\n",
            "visits.L17     0.0560      0.036      1.541      0.123      -0.015       0.127\n",
            "visits.L18    -0.0193      0.036     -0.531      0.595      -0.091       0.052\n",
            "visits.L19    -0.0273      0.036     -0.751      0.453      -0.099       0.044\n",
            "visits.L20    -0.0542      0.036     -1.492      0.136      -0.125       0.017\n",
            "visits.L21     0.0316      0.036      0.870      0.384      -0.040       0.103\n",
            "visits.L22    -0.0405      0.036     -1.114      0.265      -0.112       0.031\n",
            "visits.L23     0.0033      0.036      0.092      0.926      -0.067       0.074\n",
            "visits.L24    -0.0082      0.036     -0.229      0.819      -0.078       0.062\n",
            "visits.L25    -0.0027      0.036     -0.075      0.940      -0.073       0.067\n",
            "visits.L26     0.0094      0.036      0.263      0.792      -0.061       0.079\n",
            "visits.L27     0.1009      0.036      2.836      0.005       0.031       0.171\n",
            "visits.L28    -0.0385      0.036     -1.079      0.281      -0.109       0.031\n",
            "visits.L29     0.0896      0.036      2.508      0.012       0.020       0.160\n",
            "visits.L30     0.0246      0.036      0.686      0.493      -0.046       0.095\n",
            "visits.L31     0.0244      0.036      0.682      0.495      -0.046       0.095\n",
            "visits.L32     0.0047      0.036      0.131      0.896      -0.065       0.075\n",
            "visits.L33    -0.0112      0.036     -0.315      0.753      -0.081       0.059\n",
            "visits.L34    -0.0834      0.036     -2.345      0.019      -0.153      -0.014\n",
            "visits.L35    -0.0088      0.036     -0.248      0.804      -0.079       0.061\n",
            "visits.L36    -0.0119      0.036     -0.335      0.738      -0.082       0.058\n",
            "visits.L37     0.1829      0.036      5.130      0.000       0.113       0.253\n",
            "visits.L38    -0.1422      0.036     -3.943      0.000      -0.213      -0.072\n",
            "visits.L39    -0.0177      0.036     -0.486      0.627      -0.089       0.054\n",
            "visits.L40    -0.0578      0.036     -1.590      0.112      -0.129       0.013\n",
            "visits.L41     0.0368      0.036      1.013      0.311      -0.034       0.108\n",
            "visits.L42     0.0380      0.036      1.046      0.295      -0.033       0.109\n",
            "visits.L43    -0.0299      0.036     -0.822      0.411      -0.101       0.041\n",
            "visits.L44    -0.0176      0.036     -0.483      0.629      -0.089       0.054\n",
            "visits.L45    -0.0236      0.036     -0.650      0.516      -0.095       0.048\n",
            "visits.L46     0.0415      0.036      1.145      0.252      -0.030       0.113\n",
            "visits.L47     0.0412      0.036      1.135      0.256      -0.030       0.112\n",
            "visits.L48    -0.0280      0.036     -0.771      0.441      -0.099       0.043\n",
            "visits.L49     0.0246      0.036      0.678      0.498      -0.047       0.096\n",
            "visits.L50    -0.0247      0.036     -0.680      0.496      -0.096       0.046\n",
            "visits.L51     0.0194      0.036      0.538      0.591      -0.051       0.090\n",
            "visits.L52     0.0155      0.036      0.430      0.667      -0.055       0.086\n",
            "visits.L53    -0.0204      0.036     -0.566      0.572      -0.091       0.050\n",
            "visits.L54     0.0334      0.036      0.932      0.351      -0.037       0.104\n",
            "visits.L55     0.0199      0.036      0.556      0.578      -0.050       0.090\n",
            "visits.L56    -0.0161      0.036     -0.451      0.652      -0.086       0.054\n",
            "visits.L57    -0.0241      0.036     -0.672      0.501      -0.094       0.046\n",
            "visits.L58    -0.0040      0.035     -0.113      0.910      -0.073       0.065\n",
            "visits.L59    -0.0170      0.035     -0.480      0.632      -0.086       0.052\n",
            "visits.L60    -0.0169      0.030     -0.570      0.569      -0.075       0.041\n",
            "                                    Roots                                     \n",
            "==============================================================================\n",
            "                   Real          Imaginary           Modulus         Frequency\n",
            "------------------------------------------------------------------------------\n",
            "AR.1             1.0225           -0.0151j            1.0226           -0.0024\n",
            "AR.2             1.0225           +0.0151j            1.0226            0.0024\n",
            "AR.3             1.0222           -0.1443j            1.0324           -0.0223\n",
            "AR.4             1.0222           +0.1443j            1.0324            0.0223\n",
            "AR.5             1.0043           -0.2195j            1.0280           -0.0342\n",
            "AR.6             1.0043           +0.2195j            1.0280            0.0342\n",
            "AR.7             0.9610           -0.3809j            1.0338           -0.0601\n",
            "AR.8             0.9610           +0.3809j            1.0338            0.0601\n",
            "AR.9             0.9383           -0.4590j            1.0445           -0.0724\n",
            "AR.10            0.9383           +0.4590j            1.0445            0.0724\n",
            "AR.11            0.8816           -0.5838j            1.0574           -0.0931\n",
            "AR.12            0.8816           +0.5838j            1.0574            0.0931\n",
            "AR.13            0.7994           -0.6417j            1.0251           -0.1077\n",
            "AR.14            0.7994           +0.6417j            1.0251            0.1077\n",
            "AR.15            0.7138           -0.7510j            1.0361           -0.1290\n",
            "AR.16            0.7138           +0.7510j            1.0361            0.1290\n",
            "AR.17            0.6662           -0.8214j            1.0576           -0.1415\n",
            "AR.18            0.6662           +0.8214j            1.0576            0.1415\n",
            "AR.19            0.5335           -0.8796j            1.0288           -0.1632\n",
            "AR.20            0.5335           +0.8796j            1.0288            0.1632\n",
            "AR.21            0.3857           -0.9595j            1.0341           -0.1892\n",
            "AR.22            0.3857           +0.9595j            1.0341            0.1892\n",
            "AR.23            0.5305           -1.0880j            1.2104           -0.1778\n",
            "AR.24            0.5305           +1.0880j            1.2104            0.1778\n",
            "AR.25            0.2071           -1.0087j            1.0297           -0.2178\n",
            "AR.26            0.2071           +1.0087j            1.0297            0.2178\n",
            "AR.27            0.3241           -1.2097j            1.2523           -0.2083\n",
            "AR.28            0.3241           +1.2097j            1.2523            0.2083\n",
            "AR.29            0.0646           -1.0304j            1.0325           -0.2400\n",
            "AR.30            0.0646           +1.0304j            1.0325            0.2400\n",
            "AR.31           -0.0459           -1.0675j            1.0685           -0.2568\n",
            "AR.32           -0.0459           +1.0675j            1.0685            0.2568\n",
            "AR.33           -0.1497           -1.0254j            1.0362           -0.2731\n",
            "AR.34           -0.1497           +1.0254j            1.0362            0.2731\n",
            "AR.35           -0.2852           -1.0021j            1.0419           -0.2941\n",
            "AR.36           -0.2852           +1.0021j            1.0419            0.2941\n",
            "AR.37           -0.3664           -1.0033j            1.0681           -0.3057\n",
            "AR.38           -0.3664           +1.0033j            1.0681            0.3057\n",
            "AR.39           -0.4913           -0.9189j            1.0420           -0.3281\n",
            "AR.40           -0.4913           +0.9189j            1.0420            0.3281\n",
            "AR.41           -0.5961           -0.8548j            1.0421           -0.3469\n",
            "AR.42           -0.5961           +0.8548j            1.0421            0.3469\n",
            "AR.43           -0.7066           -0.7939j            1.0628           -0.3658\n",
            "AR.44           -0.7066           +0.7939j            1.0628            0.3658\n",
            "AR.45           -0.7665           -0.7203j            1.0518           -0.3799\n",
            "AR.46           -0.7665           +0.7203j            1.0518            0.3799\n",
            "AR.47           -0.9354           -0.8540j            1.2666           -0.3822\n",
            "AR.48           -0.9354           +0.8540j            1.2666            0.3822\n",
            "AR.49           -0.8598           -0.5664j            1.0296           -0.4073\n",
            "AR.50           -0.8598           +0.5664j            1.0296            0.4073\n",
            "AR.51           -0.9372           -0.4353j            1.0334           -0.4308\n",
            "AR.52           -0.9372           +0.4353j            1.0334            0.4308\n",
            "AR.53           -1.0277           -0.0985j            1.0324           -0.4848\n",
            "AR.54           -1.0277           +0.0985j            1.0324            0.4848\n",
            "AR.55           -1.0573           -0.3530j            1.1147           -0.4487\n",
            "AR.56           -1.0573           +0.3530j            1.1147            0.4487\n",
            "AR.57           -1.0264           -0.2733j            1.0622           -0.4586\n",
            "AR.58           -1.0264           +0.2733j            1.0622            0.4586\n",
            "AR.59           -1.3043           -0.0874j            1.3072           -0.4894\n",
            "AR.60           -1.3043           +0.0874j            1.3072            0.4894\n",
            "------------------------------------------------------------------------------\n"
          ]
        },
        {
          "output_type": "stream",
          "name": "stderr",
          "text": [
            "/usr/local/lib/python3.7/dist-packages/statsmodels/tsa/ar_model.py:252: FutureWarning: The parameter names will change after 0.12 is released. Set old_names to False to use the new names now. Set old_names to True to use the old names. \n",
            "  FutureWarning,\n"
          ]
        }
      ]
    },
    {
      "cell_type": "code",
      "source": [
        "#\n",
        "# Make the predictions\n",
        "#\n",
        "pred = ar_model.predict(start=len(train_data), end=(len(df)-1), dynamic=False)\n",
        "#\n",
        "# Plot the prediction vs test data\n",
        "#\n",
        "from matplotlib import pyplot\n",
        "pyplot.plot(pred)\n",
        "pyplot.plot(test_data, color='red')"
      ],
      "metadata": {
        "colab": {
          "base_uri": "https://localhost:8080/",
          "height": 293
        },
        "id": "dXzMrnzMrtfP",
        "outputId": "50e2742f-b135-4cf1-b887-c1a2864b5cab"
      },
      "execution_count": 8,
      "outputs": [
        {
          "output_type": "execute_result",
          "data": {
            "text/plain": [
              "[<matplotlib.lines.Line2D at 0x7f0e7292db10>]"
            ]
          },
          "metadata": {},
          "execution_count": 8
        },
        {
          "output_type": "display_data",
          "data": {
            "text/plain": [
              "<Figure size 432x288 with 1 Axes>"
            ],
            "image/png": "[encoded data removed]"
          },
          "metadata": {
            "needs_background": "light"
          }
        }
      ]
    }
  ]
}